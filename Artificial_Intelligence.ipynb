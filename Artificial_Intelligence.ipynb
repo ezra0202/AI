{
  "nbformat": 4,
  "nbformat_minor": 0,
  "metadata": {
    "colab": {
      "provenance": []
    },
    "kernelspec": {
      "name": "python3",
      "display_name": "Python 3"
    },
    "language_info": {
      "name": "python"
    }
  },
  "cells": [
    {
      "cell_type": "markdown",
      "source": [
        "# **Prims Algorithm Minimum Spanning Tree**"
      ],
      "metadata": {
        "id": "Eoi7zS1Lu2hp"
      }
    },
    {
      "cell_type": "code",
      "execution_count": 5,
      "metadata": {
        "colab": {
          "base_uri": "https://localhost:8080/"
        },
        "id": "a7TAlYC4sCRo",
        "outputId": "b907d550-ecc6-4d3f-a464-8ddcd3bd03ee"
      },
      "outputs": [
        {
          "output_type": "stream",
          "name": "stdout",
          "text": [
            "Minimum Spanning Tree:\n",
            "('A', 'C', 3)\n",
            "('C', 'B', 2)\n",
            "('B', 'D', 1)\n",
            "Edge : Weight\n",
            "\n",
            "0-2:5\n",
            "5\n",
            "2-3:1\n",
            "6\n",
            "3-4:1\n",
            "7\n",
            "4-1:2\n",
            "9\n"
          ]
        }
      ],
      "source": [
        "import heapq\n",
        "\n",
        "def prim(graph, start):\n",
        "    visited = set()  # Set to keep track of visited vertices\n",
        "    minimum_spanning_tree = []  # List to store the edges of the minimum spanning tree\n",
        "    priority_queue = [(0, start, start)]  # Priority queue to keep track of candidate edges\n",
        "\n",
        "    while priority_queue:\n",
        "        weight, parent, vertex = heapq.heappop(priority_queue)\n",
        "\n",
        "        if vertex not in visited:\n",
        "            visited.add(vertex)\n",
        "            if vertex != start:  # Skip adding the edge from the start vertex\n",
        "                minimum_spanning_tree.append((parent, vertex, weight))\n",
        "\n",
        "            # Add edges from the newly visited vertex to the priority queue\n",
        "            for neighbor, edge_weight in graph[vertex].items():\n",
        "                if neighbor not in visited:\n",
        "                    heapq.heappush(priority_queue, (edge_weight, vertex, neighbor))\n",
        "\n",
        "    return minimum_spanning_tree\n",
        "\n",
        "# Example usage:\n",
        "graph = {\n",
        "    'A': {'B': 5, 'C': 3},\n",
        "    'B': {'A': 5, 'C': 2, 'D': 1},\n",
        "    'C': {'A': 3, 'B': 2, 'D': 4},\n",
        "    'D': {'B': 1, 'C': 4}\n",
        "}\n",
        "start_vertex = 'A'\n",
        "minimum_spanning_tree = prim(graph, start_vertex)\n",
        "print(\"Minimum Spanning Tree:\")\n",
        "for edge in minimum_spanning_tree:\n",
        "    print(edge)\n",
        "\n",
        "\n",
        "# Another Frm Itachi\n",
        "INF = 9999999\n",
        "V = 5\n",
        "G = [[0, 19, 5, 0, 0],\n",
        "     [19, 0, 5, 9, 2],\n",
        "     [5, 5, 0, 1, 6],\n",
        "     [0, 9, 1, 0, 1],\n",
        "     [0, 2, 6, 1, 0]]\n",
        "\n",
        "selected = [0, 0, 0, 0, 0]\n",
        "no_edge = 0\n",
        "selected[0] = True\n",
        "print(\"Edge : Weight\\n\")\n",
        "sumx = 0\n",
        "\n",
        "while no_edge < V - 1:\n",
        "    minimum = INF\n",
        "    x = 0\n",
        "    y = 0\n",
        "    for i in range(V):\n",
        "        if selected[i]:\n",
        "            for j in range(V):\n",
        "                if (not selected[j]) and G[i][j]:\n",
        "                    if minimum > G[i][j]:\n",
        "                        minimum = G[i][j]\n",
        "                        x = i\n",
        "                        y = j\n",
        "    print(str(x) + \"-\" + str(y) + \":\" + str(G[x][y]))\n",
        "    sumx += G[x][y]\n",
        "    print(sumx)\n",
        "    selected[y] = True\n",
        "    no_edge += 1"
      ]
    },
    {
      "cell_type": "markdown",
      "source": [
        "# Dijkstra's Algorithm"
      ],
      "metadata": {
        "id": "xAdUXDFGo8OA"
      }
    },
    {
      "cell_type": "code",
      "source": [
        "import heapq\n",
        "\n",
        "def dijkstra(graph, start):\n",
        "    # Initialize distances with infinity for all vertices except the start vertex\n",
        "    distances = {vertex: float('inf') for vertex in graph}\n",
        "    distances[start] = 0  # Distance from start to itself is 0\n",
        "\n",
        "    # Initialize priority queue with the start vertex\n",
        "    priority_queue = [(0, start)]  # (distance, vertex)\n",
        "\n",
        "    while priority_queue:\n",
        "        current_distance, current_vertex = heapq.heappop(priority_queue)\n",
        "\n",
        "        # Skip if we have already found a shorter path to the current vertex\n",
        "        if current_distance > distances[current_vertex]:\n",
        "            continue\n",
        "\n",
        "        # Explore neighbors of the current vertex\n",
        "        for neighbor, weight in graph[current_vertex].items():\n",
        "            distance = current_distance + weight\n",
        "\n",
        "            # Update distance if a shorter path is found\n",
        "            if distance < distances[neighbor]:\n",
        "                distances[neighbor] = distance\n",
        "                heapq.heappush(priority_queue, (distance, neighbor))\n",
        "\n",
        "    return distances\n",
        "\n",
        "# Example usage:\n",
        "graph = {\n",
        "    'A': {'B': 5, 'C': 3},\n",
        "    'B': {'A': 5, 'C': 2, 'D': 1},\n",
        "    'C': {'A': 3, 'B': 2, 'D': 4},\n",
        "    'D': {'B': 1, 'C': 4}\n",
        "}\n",
        "start_vertex = 'A'\n",
        "shortest_distances = dijkstra(graph, start_vertex)\n",
        "print(\"Shortest distances from vertex\", start_vertex + \":\")\n",
        "for vertex, distance in shortest_distances.items():\n",
        "    print(vertex, \"->\", distance)\n",
        "\n",
        "\n",
        "# Another Djkstra's from Itachi This is Easy\n",
        "\n",
        "def dijkstra(graph, start):\n",
        "    distances = {node: float('inf') for node in graph}\n",
        "    distances[start] = 0\n",
        "\n",
        "    visited = set()\n",
        "\n",
        "    while len(visited) < len(graph):\n",
        "        current_node = None\n",
        "        for node in graph:\n",
        "            if node not in visited and (current_node is None or distances[node] < distances[current_node]):\n",
        "                current_node = node\n",
        "\n",
        "        visited.add(current_node)\n",
        "\n",
        "        for neighbor, weight in graph[current_node].items():\n",
        "            distance = distances[current_node] + weight\n",
        "            if distance < distances[neighbor]:\n",
        "                distances[neighbor] = distance\n",
        "\n",
        "    return distances\n",
        "\n",
        "graph = {\n",
        "    'A': {'B': 5, 'C': 10},\n",
        "    'B': {'A': 5, 'C': 3, 'D': 9},\n",
        "    'C': {'A': 10, 'B': 3, 'D': 8},\n",
        "    'D': {'B': 9, 'C': 8}\n",
        "}\n",
        "\n",
        "start_node = 'A'\n",
        "distances = dijkstra(graph, start_node)\n",
        "print(\"Shortest distances from\", start_node, \"to each node:\", distances)"
      ],
      "metadata": {
        "colab": {
          "base_uri": "https://localhost:8080/"
        },
        "id": "ICyVjoK7o7za",
        "outputId": "a48a0a24-ed02-4406-f0d8-29b805c8e738"
      },
      "execution_count": 4,
      "outputs": [
        {
          "output_type": "stream",
          "name": "stdout",
          "text": [
            "Shortest distances from vertex A:\n",
            "A -> 0\n",
            "B -> 5\n",
            "C -> 3\n",
            "D -> 6\n",
            "Shortest distances from A to each node: {'A': 0, 'B': 5, 'C': 8, 'D': 14}\n"
          ]
        }
      ]
    },
    {
      "cell_type": "markdown",
      "source": [
        "# Selection Sort"
      ],
      "metadata": {
        "id": "yNdZlhHrqPg3"
      }
    },
    {
      "cell_type": "code",
      "source": [
        "def selection_sort(arr):\n",
        "    n = len(arr)\n",
        "    for i in range(n - 1):  # Traverse through the entire array\n",
        "        min_index = i\n",
        "        # Find the index of the minimum element in the unsorted portion of the array\n",
        "        for j in range(i + 1, n):\n",
        "            if arr[j] < arr[min_index]:\n",
        "                min_index = j\n",
        "        # Swap the minimum element with the first element of the unsorted portion\n",
        "        arr[i], arr[min_index] = arr[min_index], arr[i]\n",
        "\n",
        "# Example usage:\n",
        "arr = [64, 25, 12, 22, 11]\n",
        "print(\"Original array:\", arr)\n",
        "selection_sort(arr)\n",
        "print(\"Sorted array:\", arr)\n"
      ],
      "metadata": {
        "colab": {
          "base_uri": "https://localhost:8080/"
        },
        "id": "vbd6t1oeqXVz",
        "outputId": "32299f83-0014-491d-f97c-43c5429e06e0"
      },
      "execution_count": 2,
      "outputs": [
        {
          "output_type": "stream",
          "name": "stdout",
          "text": [
            "Original array: [64, 25, 12, 22, 11]\n",
            "Sorted array: [11, 12, 22, 25, 64]\n"
          ]
        }
      ]
    },
    {
      "cell_type": "markdown",
      "source": [
        "# Breadth First Search"
      ],
      "metadata": {
        "id": "iWNrFKLvs-uh"
      }
    },
    {
      "cell_type": "code",
      "source": [
        "graph = { '0' : ['1', '2'],\n",
        "'1' : ['3','2'],\n",
        "'2' : ['4'],\n",
        "'3' : ['4'],\n",
        "'4' : []\n",
        "}\n",
        "\n",
        "visited = []\n",
        "queue = []\n",
        "\n",
        "def bfs(visited, graph , node):\n",
        "    visited.append(node)\n",
        "    queue.append(node)\n",
        "    iteration = 1\n",
        "\n",
        "    while queue:\n",
        "        popped_ele = queue.pop(0)\n",
        "        print(\"Iteration\", iteration)\n",
        "        print('Currently Visited Nodes =',visited)\n",
        "\n",
        "        for child in graph[popped_ele]:\n",
        "            if child not in visited:\n",
        "                visited.append(child)\n",
        "                queue.append(child)\n",
        "\n",
        "        iteration +=1\n",
        "\n",
        "bfs(visited, graph, '0')\n",
        "\n",
        "print()\n",
        "\n",
        "for i in visited:\n",
        "    print(i, end = \" \")"
      ],
      "metadata": {
        "colab": {
          "base_uri": "https://localhost:8080/"
        },
        "id": "Hz1El2kgrmcS",
        "outputId": "14e7e4dc-d8bb-4bab-9b1a-953c43d85ba3"
      },
      "execution_count": 6,
      "outputs": [
        {
          "output_type": "stream",
          "name": "stdout",
          "text": [
            "Iteration 1\n",
            "Currently Visited Nodes = ['0']\n",
            "Iteration 2\n",
            "Currently Visited Nodes = ['0', '1', '2']\n",
            "Iteration 3\n",
            "Currently Visited Nodes = ['0', '1', '2', '3']\n",
            "Iteration 4\n",
            "Currently Visited Nodes = ['0', '1', '2', '3', '4']\n",
            "Iteration 5\n",
            "Currently Visited Nodes = ['0', '1', '2', '3', '4']\n",
            "\n",
            "0 1 2 3 4 "
          ]
        }
      ]
    },
    {
      "cell_type": "markdown",
      "source": [
        "# Depth First Search"
      ],
      "metadata": {
        "id": "Zho99PlhtH_2"
      }
    },
    {
      "cell_type": "code",
      "source": [
        "nodes = {'0' : ['2','3'],\n",
        "    '1' : ['0'],\n",
        "    '2' : ['3','4'],\n",
        "    '3' : [],\n",
        "    '4' : []\n",
        "}\n",
        "\n",
        "visited = []\n",
        "stack = []\n",
        "\n",
        "def dfs (visited, nodes, node):\n",
        "    visited.append(node)\n",
        "    stack.append(node)\n",
        "    iteration = 0\n",
        "\n",
        "    while stack:\n",
        "        popped_ele = stack.pop()\n",
        "        print(\"Iteration\", iteration)\n",
        "        print('Currently Visited Nodes =',visited)\n",
        "\n",
        "        for child in nodes[popped_ele]:\n",
        "            if child not in visited:\n",
        "                visited.append(child)\n",
        "                stack.append(child)\n",
        "\n",
        "                iteration +=1\n",
        "\n",
        "dfs(visited, nodes, '1')\n",
        "\n",
        "print()\n",
        "\n",
        "for i in visited:\n",
        "    print(i, end = \" \")"
      ],
      "metadata": {
        "colab": {
          "base_uri": "https://localhost:8080/"
        },
        "id": "8-zymJC-tCGq",
        "outputId": "9efe90a0-500d-4b15-835c-93cc4fe1121d"
      },
      "execution_count": 7,
      "outputs": [
        {
          "output_type": "stream",
          "name": "stdout",
          "text": [
            "Iteration 0\n",
            "Currently Visited Nodes = ['1']\n",
            "Iteration 1\n",
            "Currently Visited Nodes = ['1', '0']\n",
            "Iteration 3\n",
            "Currently Visited Nodes = ['1', '0', '2', '3']\n",
            "Iteration 3\n",
            "Currently Visited Nodes = ['1', '0', '2', '3']\n",
            "Iteration 4\n",
            "Currently Visited Nodes = ['1', '0', '2', '3', '4']\n",
            "\n",
            "1 0 2 3 4 "
          ]
        }
      ]
    },
    {
      "cell_type": "markdown",
      "source": [
        "# A*"
      ],
      "metadata": {
        "id": "xEsLFtVMtiTj"
      }
    },
    {
      "cell_type": "code",
      "source": [
        "def aStarAlgo(start_node, stop_node):\n",
        "    open_set = set([start_node])\n",
        "    closed_set = set()\n",
        "    g = {}\n",
        "    parents = {}\n",
        "    g[start_node] = 0\n",
        "    parents[start_node] = start_node\n",
        "\n",
        "    while len(open_set) > 0:\n",
        "        n = None\n",
        "        for v in open_set:\n",
        "            if n == None or g[v] + heuristic(v) < g[n] + heuristic(n):\n",
        "                n = v\n",
        "\n",
        "        if n == stop_node or Graph_nodes[n] == None:\n",
        "            pass\n",
        "        else:\n",
        "            for (m, weight) in get_neighbors(n):\n",
        "                if m not in open_set and m not in closed_set:\n",
        "                    open_set.add(m)\n",
        "                    parents[m] = n\n",
        "                    g[m] = g[n] + weight\n",
        "                else:\n",
        "                    if g[m] > g[n] + weight:\n",
        "                        g[m] = g[n] + weight\n",
        "                        parents[m] = n\n",
        "                        if m in closed_set:\n",
        "                            closed_set.remove(m)\n",
        "                            open_set.add(m)\n",
        "        if n == None:\n",
        "            print('Path does not exist!')\n",
        "            return None\n",
        "        if n == stop_node:\n",
        "            path = []\n",
        "            while parents[n] != n:\n",
        "                path.append(n)\n",
        "                n = parents[n]\n",
        "            path.append(start_node)\n",
        "            path.reverse()\n",
        "            print('Path found: {}'.format(path))\n",
        "            return path\n",
        "        open_set.remove(n)\n",
        "        closed_set.add(n)\n",
        "    print('Path does not exist!')\n",
        "    return None\n",
        "\n",
        "def get_neighbors(v):\n",
        "    if v in Graph_nodes:\n",
        "        return Graph_nodes[v]\n",
        "    else:\n",
        "        return None\n",
        "\n",
        "def heuristic(n):\n",
        "    H_dist = {\n",
        "        'A': 11,\n",
        "        'B': 6,\n",
        "        'C': 99,\n",
        "        'D': 1,\n",
        "        'E': 7,\n",
        "        'G': 0,\n",
        "    }\n",
        "    return H_dist[n]\n",
        "\n",
        "Graph_nodes = {\n",
        "    'A': [('B', 2), ('E', 3)],\n",
        "    'B': [('C', 1),('G', 9)],\n",
        "    'C': None,\n",
        "    'E': [('D', 6)],\n",
        "    'D': [('G', 1)],\n",
        "}\n",
        "\n",
        "aStarAlgo('A', 'G')\n",
        "\n",
        "\n",
        "\n",
        "#Another Implementation Froom GPT above is from Itachi\n",
        "import heapq\n",
        "\n",
        "def astar(graph, start, goal):\n",
        "    open_list = [(0, start)]  # Priority queue of (f-score, node)\n",
        "    came_from = {}  # Dictionary to reconstruct the path\n",
        "    g_score = {node: float('inf') for node in graph}  # Cost from start to node\n",
        "    g_score[start] = 0\n",
        "    f_score = {node: float('inf') for node in graph}  # Estimated total cost from start to goal through node\n",
        "    f_score[start] = heuristic(start, goal)\n",
        "\n",
        "    while open_list:\n",
        "        _, current = heapq.heappop(open_list)\n",
        "\n",
        "        if current == goal:\n",
        "            # Reconstruct path\n",
        "            path = []\n",
        "            while current in came_from:\n",
        "                path.append(current)\n",
        "                current = came_from[current]\n",
        "            path.append(start)\n",
        "            path.reverse()\n",
        "            return path\n",
        "\n",
        "        for neighbor, cost in graph[current]:\n",
        "            tentative_g_score = g_score[current] + cost\n",
        "            if tentative_g_score < g_score[neighbor]:\n",
        "                came_from[neighbor] = current\n",
        "                g_score[neighbor] = tentative_g_score\n",
        "                f_score[neighbor] = tentative_g_score + heuristic(neighbor, goal)\n",
        "                heapq.heappush(open_list, (f_score[neighbor], neighbor))\n",
        "\n",
        "    return None  # No path found\n",
        "\n",
        "def heuristic(node, goal):\n",
        "    # Example heuristic: Euclidean distance between nodes\n",
        "    x1, y1 = graph[node]\n",
        "    x2, y2 = graph[goal]\n",
        "    return ((x2 - x1) ** 2 + (y2 - y1) ** 2) ** 0.5\n",
        "\n",
        "graph = {\n",
        "    'A': (0, 0),\n",
        "    'B': (1, 2),\n",
        "    'C': (3, 1),\n",
        "    'D': (4, 3)\n",
        "}\n",
        "\n",
        "# Define edges and their costs\n",
        "graph_edges = {\n",
        "    'A': [('B', 10), ('C', 15)],\n",
        "    'B': [('A', 10), ('D', 12)],\n",
        "    'C': [('A', 15), ('D', 10)],\n",
        "    'D': [('B', 12), ('C', 10)]\n",
        "}\n",
        "\n",
        "start_node = 'A'\n",
        "goal_node = 'D'\n",
        "path = astar(graph_edges, start_node, goal_node)\n",
        "print(\"Path from\", start_node, \"to\", goal_node, \":\", path)\n"
      ],
      "metadata": {
        "colab": {
          "base_uri": "https://localhost:8080/"
        },
        "id": "h1L3cJxMtLeY",
        "outputId": "dcebfdd4-d2bb-4dda-d538-ee88e6ac79f3"
      },
      "execution_count": 12,
      "outputs": [
        {
          "output_type": "stream",
          "name": "stdout",
          "text": [
            "Path found: ['A', 'E', 'D', 'G']\n",
            "Path from A to D : ['A', 'B', 'D']\n"
          ]
        }
      ]
    },
    {
      "cell_type": "markdown",
      "source": [
        "# FCFS"
      ],
      "metadata": {
        "id": "nN0Vrxm_vgbH"
      }
    },
    {
      "cell_type": "code",
      "source": [
        "processes=[['p1',1,6],['p2',4,4],['p3',2,3],['p4',5,6]]\n",
        "ct=[0]*len(processes)\n",
        "tat=[0]*len(processes)\n",
        "wt=[0]*len(processes)\n",
        "\n",
        "for i in range(len(processes)):\n",
        "    min_idx = i\n",
        "    for j in range(i + 1, len(processes)):\n",
        "        if processes[min_idx][1] > processes[j][1]:\n",
        "            min_idx = j\n",
        "    processes[i], processes[min_idx] = processes[min_idx], processes[i]\n",
        "\n",
        "for i in range(len(processes)):\n",
        "    empty=0\n",
        "    if processes[i][1]>ct[i-1]:\n",
        "        empty=1\n",
        "    ct[i]=processes[i][2]+ct[i-1]+empty\n",
        "    tat[i]=ct[i]-processes[i][1]\n",
        "    wt[i]=tat[i]-processes[i][2]\n",
        "\n",
        "print('Process','AT\\t','BT\\t','CT\\t','TAT\\t','WT\\t')\n",
        "for j in range(len(processes)):\n",
        "    print(processes[j][0],'\\t',processes[j][1],'\\t',processes[j][2],'\\t',ct[j],'\\t',tat[j],'\\t',wt[j],'\\n')\n",
        "\n",
        "print('TAT:',sum(tat)/len(processes))\n",
        "print('WT:',sum(wt)/len(processes))"
      ],
      "metadata": {
        "colab": {
          "base_uri": "https://localhost:8080/"
        },
        "id": "oLYy0w6AtkUU",
        "outputId": "1934f0fe-8e10-481b-ce16-ceb2ec6a56b7"
      },
      "execution_count": 13,
      "outputs": [
        {
          "output_type": "stream",
          "name": "stdout",
          "text": [
            "Process AT\t BT\t CT\t TAT\t WT\t\n",
            "p1 \t 1 \t 6 \t 7 \t 6 \t 0 \n",
            "\n",
            "p3 \t 2 \t 3 \t 10 \t 8 \t 5 \n",
            "\n",
            "p2 \t 4 \t 4 \t 14 \t 10 \t 6 \n",
            "\n",
            "p4 \t 5 \t 6 \t 20 \t 15 \t 9 \n",
            "\n",
            "TAT: 9.75\n",
            "WT: 5.0\n"
          ]
        }
      ]
    },
    {
      "cell_type": "code",
      "source": [],
      "metadata": {
        "id": "NFxfJ7XPvivP"
      },
      "execution_count": null,
      "outputs": []
    }
  ]
}